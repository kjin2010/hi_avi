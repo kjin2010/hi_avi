{
 "cells": [
  {
   "cell_type": "code",
   "execution_count": 136,
   "metadata": {},
   "outputs": [
    {
     "data": {
      "text/html": [
       "<div>\n",
       "<style scoped>\n",
       "    .dataframe tbody tr th:only-of-type {\n",
       "        vertical-align: middle;\n",
       "    }\n",
       "\n",
       "    .dataframe tbody tr th {\n",
       "        vertical-align: top;\n",
       "    }\n",
       "\n",
       "    .dataframe thead th {\n",
       "        text-align: right;\n",
       "    }\n",
       "</style>\n",
       "<table border=\"1\" class=\"dataframe\">\n",
       "  <thead>\n",
       "    <tr style=\"text-align: right;\">\n",
       "      <th></th>\n",
       "      <th>0</th>\n",
       "      <th>1</th>\n",
       "      <th>2</th>\n",
       "      <th>3</th>\n",
       "      <th>4</th>\n",
       "      <th>5</th>\n",
       "    </tr>\n",
       "  </thead>\n",
       "  <tbody>\n",
       "    <tr>\n",
       "      <th>0</th>\n",
       "      <td>1</td>\n",
       "      <td>19418.0</td>\n",
       "      <td>33212.0</td>\n",
       "      <td>19226.0</td>\n",
       "      <td>7.000</td>\n",
       "      <td>-1</td>\n",
       "    </tr>\n",
       "    <tr>\n",
       "      <th>1</th>\n",
       "      <td>2</td>\n",
       "      <td>19418.0</td>\n",
       "      <td>33226.0</td>\n",
       "      <td>19226.0</td>\n",
       "      <td>12.799</td>\n",
       "      <td>1</td>\n",
       "    </tr>\n",
       "    <tr>\n",
       "      <th>2</th>\n",
       "      <td>3</td>\n",
       "      <td>19404.0</td>\n",
       "      <td>33240.0</td>\n",
       "      <td>19212.0</td>\n",
       "      <td>12.799</td>\n",
       "      <td>2</td>\n",
       "    </tr>\n",
       "    <tr>\n",
       "      <th>3</th>\n",
       "      <td>4</td>\n",
       "      <td>19390.0</td>\n",
       "      <td>33240.0</td>\n",
       "      <td>19198.0</td>\n",
       "      <td>12.799</td>\n",
       "      <td>3</td>\n",
       "    </tr>\n",
       "    <tr>\n",
       "      <th>4</th>\n",
       "      <td>5</td>\n",
       "      <td>19362.0</td>\n",
       "      <td>33240.0</td>\n",
       "      <td>19170.0</td>\n",
       "      <td>21.000</td>\n",
       "      <td>4</td>\n",
       "    </tr>\n",
       "  </tbody>\n",
       "</table>\n",
       "</div>"
      ],
      "text/plain": [
       "   0        1        2        3       4  5\n",
       "0  1  19418.0  33212.0  19226.0   7.000 -1\n",
       "1  2  19418.0  33226.0  19226.0  12.799  1\n",
       "2  3  19404.0  33240.0  19212.0  12.799  2\n",
       "3  4  19390.0  33240.0  19198.0  12.799  3\n",
       "4  5  19362.0  33240.0  19170.0  21.000  4"
      ]
     },
     "execution_count": 136,
     "metadata": {},
     "output_type": "execute_result"
    }
   ],
   "source": [
    "import pandas as pd \n",
    "import numpy as np\n",
    "\n",
    "data = pd.read_csv('data.csv', header = None)\n",
    "data.head()"
   ]
  },
  {
   "cell_type": "code",
   "execution_count": 137,
   "metadata": {},
   "outputs": [],
   "source": [
    "n = len(data) + 1\n",
    "parent = np.zeros(n, dtype = int)\n",
    "rank = np.zeros(n, dtype = int)\n",
    "for i in range(n):\n",
    "    parent[i] = i\n",
    "    \n",
    "def find(a):\n",
    "    if parent[a] != a:\n",
    "        parent[a] = find(parent[a])\n",
    "    return parent[a]\n",
    "    \n",
    "def set_union(a, b):\n",
    "    ap = find(a)\n",
    "    bp = find(b)\n",
    "    if rank[ap] < rank[bp]:\n",
    "        parent[ap] = bp\n",
    "    elif rank[ap] > rank[bp]:\n",
    "        parent[bp] = ap\n",
    "    else:\n",
    "        parent[bp] = ap\n",
    "        rank[ap] += 1"
   ]
  },
  {
   "cell_type": "code",
   "execution_count": 138,
   "metadata": {},
   "outputs": [
    {
     "data": {
      "text/plain": [
       "True"
      ]
     },
     "execution_count": 138,
     "metadata": {},
     "output_type": "execute_result"
    }
   ],
   "source": [
    "num_rows = 0\n",
    "for ind, row in data.iterrows():\n",
    "    src, dest = int(row.iloc[0]), int(row.iloc[5])\n",
    "    num_rows += 1\n",
    "    if dest != -1:\n",
    "        set_union(src, dest)\n",
    "    else:\n",
    "        rank[src] = n\n",
    "num_rows == len(data)"
   ]
  },
  {
   "cell_type": "code",
   "execution_count": 139,
   "metadata": {},
   "outputs": [],
   "source": [
    "comps = {}\n",
    "for i in range(1, n):\n",
    "    if parent[i] in comps:\n",
    "        comps[parent[i]].append(i)\n",
    "    else:\n",
    "        comps[parent[i]] = [i]"
   ]
  },
  {
   "cell_type": "code",
   "execution_count": 173,
   "metadata": {},
   "outputs": [],
   "source": [
    "def build_graph(nodes):\n",
    "    graph = {}\n",
    "    for node in nodes:\n",
    "        src, dest = data.iloc[node - 1, 0], data.iloc[node - 1, 5]\n",
    "        if dest != -1:\n",
    "            if dest in graph:\n",
    "                graph[dest].append(src)\n",
    "            else:\n",
    "                graph[dest] = [src]\n",
    "    return graph\n",
    "\n",
    "def get_depth_order(graph, root):\n",
    "    order = []\n",
    "    queue = [root]\n",
    "    prev_level_count = 1\n",
    "    while prev_level_count > 0:\n",
    "        cur_level_count = 0\n",
    "        while prev_level_count:\n",
    "            prev_level_count -= 1\n",
    "            cur_node = queue.pop(0)\n",
    "            order.append(cur_node)\n",
    "            if cur_node in graph:\n",
    "                cur_level_count += len(graph[cur_node])\n",
    "                queue += graph[cur_node]\n",
    "        prev_level_count = cur_level_count\n",
    "    return order\n",
    "\n",
    "def branch(root, graph, vis, path):\n",
    "    cur = root\n",
    "    while cur:\n",
    "        path.append(cur)\n",
    "        vis[cur] = 1\n",
    "        if cur in graph:\n",
    "            for child in graph[cur]:\n",
    "                if not vis[child]:\n",
    "                    cur = child\n",
    "                    break\n",
    "        if cur == path[-1]:\n",
    "            break\n",
    "    return path\n",
    "\n",
    "def branch_driver(root):\n",
    "    node_list = comps[root]\n",
    "    graph = build_graph(node_list)\n",
    "    vis = np.zeros(n, dtype = int)\n",
    "    branches = []\n",
    "    depth_order = get_depth_order(graph, root)\n",
    "    branches.append(branch(root, graph, vis, []))\n",
    "    num_nodes = len(branches[0])\n",
    "    for node in depth_order:\n",
    "        if not vis[node]:\n",
    "            cur_child = data.iloc[node - 1, 5]\n",
    "#             print(branch(node, graph, vis, [cur_child]))\n",
    "            branches.append(branch(node, graph, vis, [cur_child]))\n",
    "            num_nodes = num_nodes + len(branches[-1]) - 1\n",
    "    return branches, num_nodes"
   ]
  },
  {
   "cell_type": "code",
   "execution_count": 180,
   "metadata": {},
   "outputs": [
    {
     "name": "stdout",
     "output_type": "stream",
     "text": [
      "graph with root 1 has: \n",
      "\t              34190 total nodes \n",
      "\t              2 branches \n",
      "\t              34190 nodes accounted for in the branches\n",
      "graph with root 34191 has: \n",
      "\t              216 total nodes \n",
      "\t              2 branches \n",
      "\t              216 nodes accounted for in the branches\n",
      "graph with root 34407 has: \n",
      "\t              305 total nodes \n",
      "\t              2 branches \n",
      "\t              305 nodes accounted for in the branches\n",
      "graph with root 34712 has: \n",
      "\t              15 total nodes \n",
      "\t              2 branches \n",
      "\t              15 nodes accounted for in the branches\n",
      "graph with root 34727 has: \n",
      "\t              5 total nodes \n",
      "\t              2 branches \n",
      "\t              5 nodes accounted for in the branches\n"
     ]
    }
   ],
   "source": [
    "for key in comps:\n",
    "    branch_list, num_nodes = branch_driver(key)\n",
    "    print(f'graph with root {key} has: \\n\\t\\\n",
    "              {len(comps[key])} total nodes \\n\\t\\\n",
    "              {len(branch_driver(key))} branches \\n\\t\\\n",
    "              {num_nodes} nodes accounted for in the branches')"
   ]
  },
  {
   "cell_type": "code",
   "execution_count": 176,
   "metadata": {},
   "outputs": [
    {
     "name": "stdout",
     "output_type": "stream",
     "text": [
      "15 15\n",
      "[34712, 34713, 34714, 34715, 34716, 34717, 34718, 34719]\n",
      "[34715, 34724, 34725, 34726]\n",
      "[34717, 34723]\n",
      "[34718, 34720, 34721, 34722]\n"
     ]
    }
   ],
   "source": [
    "root = 34712\n",
    "branches, num_nodes = branch_driver(root)\n",
    "for branch_path in branches:\n",
    "    print(branch_path)"
   ]
  },
  {
   "cell_type": "code",
   "execution_count": null,
   "metadata": {},
   "outputs": [],
   "source": []
  }
 ],
 "metadata": {
  "kernelspec": {
   "display_name": "data-science",
   "language": "python",
   "name": "data-science"
  },
  "language_info": {
   "codemirror_mode": {
    "name": "ipython",
    "version": 3
   },
   "file_extension": ".py",
   "mimetype": "text/x-python",
   "name": "python",
   "nbconvert_exporter": "python",
   "pygments_lexer": "ipython3",
   "version": "3.7.3"
  }
 },
 "nbformat": 4,
 "nbformat_minor": 4
}
